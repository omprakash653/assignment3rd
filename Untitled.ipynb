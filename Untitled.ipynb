{
 "cells": [
  {
   "cell_type": "markdown",
   "id": "d3ee3a15",
   "metadata": {},
   "source": [
    "# Ans1"
   ]
  },
  {
   "cell_type": "code",
   "execution_count": 9,
   "id": "6c02978c",
   "metadata": {},
   "outputs": [],
   "source": [
    "# Functions are advantageous to have in your Python programs for several reasons:\n",
    "# i. Modularity: Functions allow you to break your code into smaller, reusable pieces. This \n",
    "# promotes modularity, making your code easier to understand and maintain. You can isolate \n",
    "# specific tasks or functionalities within functions, which makes it easier to update or \n",
    "# troubleshoot individual parts of your code without affecting the entire program.\n",
    "                                                                   \n",
    "# ii. Code Reusability: Once you've defined a function, you can call it multiple times with \n",
    "# different inputs. This reusability not only saves you time but also reduces the chances of \n",
    "# errors since you're using a well-tested and reliable piece of code.\n",
    "                                                       \n",
    "# iii. Readability: Functions help improve the readability of your code by giving meaningful \n",
    "# names to blocks of code. This makes your code self-documenting and easier for you and \n",
    "# others to understand.\n",
    "                                                           \n",
    "# iv. Abstrac3on: Functitions allow you to hide complex implementations behind a simple \n",
    "# interface. This abstraction helps you focus on the high-level logic of your program while \n",
    "# ignoring the niGy-griGy details of how a particular task is accomplished.\n",
    "                                             \n",
    "# v. Tes3ng: Functions can be tested in isolation, which makes it easier to identify and fix bugs. \n",
    "# You can write test cases for individual functions to ensure they work correctly, which \n",
    "# contributes to the overall reliability of your program.\n",
    "                                             \n",
    "# vi. Collaboration: When working on a team, functions provide clear boundaries for different \n",
    "# team members to work on different parts of the codebase. Each member can develop and \n",
    "# test their functions independently, and they can integrate them into the larger program \n",
    "# when ready.\n",
    "                \n",
    "# vii. Code Maintenance: Functions make code maintenance more manageable. If you need to \n",
    "# update a specific feature or fix a bug, you can focus on the relevant function, rather than \n",
    "# searching through the entire codebase. This reduces the risk of introducing unintended \n",
    "# side effects.\n",
    "                         \n",
    "# viii. Documentation: Functions are a natural place to add comments and docstrings, which can \n",
    "# serve as documentation for how the function works, what inputs it expects, and what it \n",
    "# returns. This makes it easier for others (and your future self) to understand and use your \n",
    "# code.\n",
    "\n",
    "# In summary, functions are a fundamental building block of Python programming that \n",
    "# enhances code organization, reusability, readability, and maintainability. They are a key tool \n",
    "# for wri(ng clean, efficient, and scalable code.\n"
   ]
  },
  {
   "cell_type": "markdown",
   "id": "056665e0",
   "metadata": {},
   "source": [
    "# Ans2"
   ]
  },
  {
   "cell_type": "code",
   "execution_count": 2,
   "id": "3925745d",
   "metadata": {},
   "outputs": [],
   "source": [
    "# The code in a function executes when the function is called, not when the function is defined.\n",
    "# For example:\n",
    "# def myfunc():\n",
    "#  print (‘Hello World’)\n",
    "# myfunc()\n",
    "# To call the function, myfunc() is used"
   ]
  },
  {
   "cell_type": "markdown",
   "id": "aeec2d7c",
   "metadata": {},
   "source": [
    "# Ans3"
   ]
  },
  {
   "cell_type": "code",
   "execution_count": 3,
   "id": "9403f850",
   "metadata": {},
   "outputs": [],
   "source": [
    "# The keyword ‘def’ is used to create a function in Python. The syntax of a function is:\n",
    "# def func_name(parameters):\n",
    "#     stetement"
   ]
  },
  {
   "cell_type": "markdown",
   "id": "3ad6a0fc",
   "metadata": {},
   "source": [
    "# Ans4"
   ]
  },
  {
   "cell_type": "code",
   "execution_count": 5,
   "id": "74fe6e38",
   "metadata": {},
   "outputs": [],
   "source": [
    "# A function is a block of code that performs a specific task, while a function call is an expression \n",
    "# that invokes a function and executes the code in the function"
   ]
  },
  {
   "cell_type": "markdown",
   "id": "24fe7467",
   "metadata": {},
   "source": [
    "# Ans5"
   ]
  },
  {
   "cell_type": "code",
   "execution_count": 6,
   "id": "1d1dc439",
   "metadata": {},
   "outputs": [
    {
     "name": "stdout",
     "output_type": "stream",
     "text": [
      "Hello\n",
      "Hello om\n",
      "Hello\n",
      "200\n"
     ]
    }
   ],
   "source": [
    "# Global scope refers to the names of variables which are defined in the main body of a \n",
    "# program. These are visible and accessed throughout the program. The variables or objects \n",
    "# declared in the global scope are easily accessible to all functions within the program.\n",
    "# i. Global outside the function\n",
    "x='Hello' \n",
    "def func():\n",
    " print(f'{x} om')\n",
    "print(x)\n",
    "func()\n",
    "                                                               \n",
    "\n",
    "# ii. Global defined inside the function with global keyword\n",
    "x='Hello' \n",
    "def func():\n",
    " global x #Global\n",
    " x=200 \n",
    " print(x)\n",
    "print(x)\n",
    "func()"
   ]
  },
  {
   "cell_type": "markdown",
   "id": "ecba94c8",
   "metadata": {},
   "source": [
    "# Ans6"
   ]
  },
  {
   "cell_type": "code",
   "execution_count": 8,
   "id": "4c6f836d",
   "metadata": {},
   "outputs": [
    {
     "name": "stdout",
     "output_type": "stream",
     "text": [
      "300\n"
     ]
    }
   ],
   "source": [
    "# Local scope refers to the names which are defined within a function and are local to that \n",
    "# function. They can be accessed from the point of its definition until the end of the block in \n",
    "# which it has been defined. TThe local scope exists till the time the function has been executed\n",
    "def sum():\n",
    " y=100 \n",
    " x=200\n",
    " print(x+y)\n",
    "sum()\n"
   ]
  },
  {
   "cell_type": "markdown",
   "id": "78f7652a",
   "metadata": {},
   "source": [
    "# Ans7"
   ]
  },
  {
   "cell_type": "code",
   "execution_count": 14,
   "id": "fc4c7a40",
   "metadata": {},
   "outputs": [],
   "source": [
    "# A return is a value that a function returns to the calling script or function when it completes \n",
    "# its task. A return value can only be any one of the four variable types: handle, integer, object, \n",
    "# or string. The syntax is:\n",
    "# def fun():\n",
    "#  statements\n",
    "#  .\n",
    "#  .\n",
    "#  return expression"
   ]
  },
  {
   "cell_type": "markdown",
   "id": "e75c92a4",
   "metadata": {},
   "source": [
    "# Ans8"
   ]
  },
  {
   "cell_type": "code",
   "execution_count": 11,
   "id": "31f42367",
   "metadata": {},
   "outputs": [],
   "source": [
    "# If a function does not have a return statement, or one with a return statement without a \n",
    "# return value, will return None"
   ]
  },
  {
   "cell_type": "markdown",
   "id": "d34078d7",
   "metadata": {},
   "source": [
    "# Ans9"
   ]
  },
  {
   "cell_type": "code",
   "execution_count": 12,
   "id": "d153bab0",
   "metadata": {},
   "outputs": [],
   "source": [
    "# The data type of None is NoneType.\n"
   ]
  },
  {
   "cell_type": "markdown",
   "id": "aba04792",
   "metadata": {},
   "source": [
    "# Ans10"
   ]
  },
  {
   "cell_type": "code",
   "execution_count": 13,
   "id": "93cea265",
   "metadata": {},
   "outputs": [],
   "source": [
    "# That areallyourpetsnamederic statement imports a module named areallyourpetsnamederic."
   ]
  },
  {
   "cell_type": "markdown",
   "id": "99a3ccf2",
   "metadata": {},
   "source": [
    "# Ans11"
   ]
  },
  {
   "cell_type": "code",
   "execution_count": 15,
   "id": "77e3ab37",
   "metadata": {},
   "outputs": [],
   "source": [
    "# The func(on will be called with spam.bacon()."
   ]
  },
  {
   "cell_type": "markdown",
   "id": "374d33c7",
   "metadata": {},
   "source": [
    "# Ans12"
   ]
  },
  {
   "cell_type": "code",
   "execution_count": 16,
   "id": "9b0ec585",
   "metadata": {},
   "outputs": [],
   "source": [
    "# To save a programme from crashing if it encounters error, place the line of code that might \n",
    "# cause an error in a try clause."
   ]
  },
  {
   "cell_type": "markdown",
   "id": "2be6b912",
   "metadata": {},
   "source": [
    "# Ans13"
   ]
  },
  {
   "cell_type": "code",
   "execution_count": 17,
   "id": "78041074",
   "metadata": {},
   "outputs": [],
   "source": [
    "# The code that could potentially cause an error goes in the try clause.\n",
    "# The code that executes if an error happens goes in the except clause."
   ]
  },
  {
   "cell_type": "markdown",
   "id": "09caa227",
   "metadata": {},
   "source": [
    "# Ans14"
   ]
  },
  {
   "cell_type": "code",
   "execution_count": null,
   "id": "4717d4f8",
   "metadata": {},
   "outputs": [],
   "source": [
    "# The purpose of the try clause in Python is written code can raise exception. \n",
    "# It allows you to handle potential errors or exceptions that might occur during the execution of that code block.\n",
    "\n",
    "# The purpose of the except clause in Python is to catch and handle exceptions that are raised within the try block. \n",
    "# It provides a way to gracefully handle errors and execute alternative code paths when exceptions occur.\n",
    "\n",
    "# example"
   ]
  }
 ],
 "metadata": {
  "kernelspec": {
   "display_name": "Python 3 (ipykernel)",
   "language": "python",
   "name": "python3"
  },
  "language_info": {
   "codemirror_mode": {
    "name": "ipython",
    "version": 3
   },
   "file_extension": ".py",
   "mimetype": "text/x-python",
   "name": "python",
   "nbconvert_exporter": "python",
   "pygments_lexer": "ipython3",
   "version": "3.11.1"
  }
 },
 "nbformat": 4,
 "nbformat_minor": 5
}
